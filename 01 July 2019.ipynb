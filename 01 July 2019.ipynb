{
 "cells": [
  {
   "cell_type": "markdown",
   "metadata": {},
   "source": [
    "# Day Objectives:\n",
    "\n",
    "    - Conditional Statements\n",
    "        - if ,else and elif\n",
    "            - Syntax \n",
    "            - Example\n",
    "    - Control Statements\n",
    "        - There are 3 control statements\n",
    "            1. break : \n",
    "                - used to terminate the loop or block containing it\n",
    "            2. continue :\n",
    "                - which is used to skip the present statement,and after that it will contnue tha execution\n",
    "            3. pass\n",
    "            \n",
    "            "
   ]
  },
  {
   "cell_type": "code",
   "execution_count": 5,
   "metadata": {},
   "outputs": [
    {
     "name": "stdout",
     "output_type": "stream",
     "text": [
      "2\n"
     ]
    }
   ],
   "source": [
    "i = 2\n",
    "j = 3\n",
    "if i==0:\n",
    "    pass\n",
    "elif i==2:\n",
    "    print(i)"
   ]
  },
  {
   "cell_type": "code",
   "execution_count": null,
   "metadata": {},
   "outputs": [],
   "source": []
  }
 ],
 "metadata": {
  "kernelspec": {
   "display_name": "Python 3",
   "language": "python",
   "name": "python3"
  },
  "language_info": {
   "codemirror_mode": {
    "name": "ipython",
    "version": 3
   },
   "file_extension": ".py",
   "mimetype": "text/x-python",
   "name": "python",
   "nbconvert_exporter": "python",
   "pygments_lexer": "ipython3",
   "version": "3.7.3"
  }
 },
 "nbformat": 4,
 "nbformat_minor": 2
}
